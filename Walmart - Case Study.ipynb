{
 "cells": [
  {
   "cell_type": "markdown",
   "id": "43009321-e59e-42da-b9df-2ff939448f3d",
   "metadata": {},
   "source": [
    "# Walmart "
   ]
  },
  {
   "cell_type": "markdown",
   "id": "0ebbdb77-77fb-4803-b283-dba82365e244",
   "metadata": {},
   "source": [
    "Walmart is an American multinational retail corporation that operates a chain of supercenters, discount departmental stores, and grocery stores from the United States. Walmart has more than 100 million customers worldwide.\n",
    "\n",
    "\n",
    "**Business Problem:**\n",
    "The Management team at Walmart Inc. wants to analyze the customer purchase behavior (specifically, purchase amount) against the customer’s gender and the customer's marital_status to help the business make better decisions. They want to understand if the spending habits differ between male and female customers: Do women spend more on Black Friday than men? (Assume 50 million customers are male and 50 million are female)"
   ]
  },
  {
   "cell_type": "code",
   "execution_count": 1,
   "id": "1160b1aa-435c-4ccc-aa23-87430181c222",
   "metadata": {},
   "outputs": [],
   "source": [
    "# importing libraries\n",
    "import pandas as pd\n",
    "import numpy as np\n",
    "\n",
    "#importing visualization libraries\n",
    "import matplotlib.pyplot as plt\n",
    "import seaborn as sns\n",
    "\n",
    "#importing statistical library\n",
    "from scipy.stats import norm\n",
    "\n",
    "import warnings \n",
    "warnings.filterwarnings(\"ignore\")\n"
   ]
  },
  {
   "cell_type": "code",
   "execution_count": 2,
   "id": "f59e896b-00cb-470d-bf39-6aca937c689f",
   "metadata": {},
   "outputs": [
    {
     "data": {
      "text/html": [
       "<div>\n",
       "<style scoped>\n",
       "    .dataframe tbody tr th:only-of-type {\n",
       "        vertical-align: middle;\n",
       "    }\n",
       "\n",
       "    .dataframe tbody tr th {\n",
       "        vertical-align: top;\n",
       "    }\n",
       "\n",
       "    .dataframe thead th {\n",
       "        text-align: right;\n",
       "    }\n",
       "</style>\n",
       "<table border=\"1\" class=\"dataframe\">\n",
       "  <thead>\n",
       "    <tr style=\"text-align: right;\">\n",
       "      <th></th>\n",
       "      <th>User_ID</th>\n",
       "      <th>Product_ID</th>\n",
       "      <th>Gender</th>\n",
       "      <th>Age</th>\n",
       "      <th>Occupation</th>\n",
       "      <th>City_Category</th>\n",
       "      <th>Stay_In_Current_City_Years</th>\n",
       "      <th>Marital_Status</th>\n",
       "      <th>Product_Category</th>\n",
       "      <th>Purchase</th>\n",
       "    </tr>\n",
       "  </thead>\n",
       "  <tbody>\n",
       "    <tr>\n",
       "      <th>0</th>\n",
       "      <td>1000001</td>\n",
       "      <td>P00069042</td>\n",
       "      <td>F</td>\n",
       "      <td>0-17</td>\n",
       "      <td>10</td>\n",
       "      <td>A</td>\n",
       "      <td>2</td>\n",
       "      <td>0</td>\n",
       "      <td>3</td>\n",
       "      <td>8370</td>\n",
       "    </tr>\n",
       "    <tr>\n",
       "      <th>1</th>\n",
       "      <td>1000001</td>\n",
       "      <td>P00248942</td>\n",
       "      <td>F</td>\n",
       "      <td>0-17</td>\n",
       "      <td>10</td>\n",
       "      <td>A</td>\n",
       "      <td>2</td>\n",
       "      <td>0</td>\n",
       "      <td>1</td>\n",
       "      <td>15200</td>\n",
       "    </tr>\n",
       "    <tr>\n",
       "      <th>2</th>\n",
       "      <td>1000001</td>\n",
       "      <td>P00087842</td>\n",
       "      <td>F</td>\n",
       "      <td>0-17</td>\n",
       "      <td>10</td>\n",
       "      <td>A</td>\n",
       "      <td>2</td>\n",
       "      <td>0</td>\n",
       "      <td>12</td>\n",
       "      <td>1422</td>\n",
       "    </tr>\n",
       "    <tr>\n",
       "      <th>3</th>\n",
       "      <td>1000001</td>\n",
       "      <td>P00085442</td>\n",
       "      <td>F</td>\n",
       "      <td>0-17</td>\n",
       "      <td>10</td>\n",
       "      <td>A</td>\n",
       "      <td>2</td>\n",
       "      <td>0</td>\n",
       "      <td>12</td>\n",
       "      <td>1057</td>\n",
       "    </tr>\n",
       "    <tr>\n",
       "      <th>4</th>\n",
       "      <td>1000002</td>\n",
       "      <td>P00285442</td>\n",
       "      <td>M</td>\n",
       "      <td>55+</td>\n",
       "      <td>16</td>\n",
       "      <td>C</td>\n",
       "      <td>4+</td>\n",
       "      <td>0</td>\n",
       "      <td>8</td>\n",
       "      <td>7969</td>\n",
       "    </tr>\n",
       "  </tbody>\n",
       "</table>\n",
       "</div>"
      ],
      "text/plain": [
       "   User_ID Product_ID Gender   Age  Occupation City_Category  \\\n",
       "0  1000001  P00069042      F  0-17          10             A   \n",
       "1  1000001  P00248942      F  0-17          10             A   \n",
       "2  1000001  P00087842      F  0-17          10             A   \n",
       "3  1000001  P00085442      F  0-17          10             A   \n",
       "4  1000002  P00285442      M   55+          16             C   \n",
       "\n",
       "  Stay_In_Current_City_Years  Marital_Status  Product_Category  Purchase  \n",
       "0                          2               0                 3      8370  \n",
       "1                          2               0                 1     15200  \n",
       "2                          2               0                12      1422  \n",
       "3                          2               0                12      1057  \n",
       "4                         4+               0                 8      7969  "
      ]
     },
     "execution_count": 2,
     "metadata": {},
     "output_type": "execute_result"
    }
   ],
   "source": [
    "# loading the walmart data\n",
    "df = pd.read_csv(\"walmart_data.txt\")\n",
    "df.head()"
   ]
  },
  {
   "cell_type": "code",
   "execution_count": 3,
   "id": "f9780a01-f95c-4b71-b7e1-b911f775c404",
   "metadata": {},
   "outputs": [
    {
     "data": {
      "text/plain": [
       "(550068, 10)"
      ]
     },
     "execution_count": 3,
     "metadata": {},
     "output_type": "execute_result"
    }
   ],
   "source": [
    "# showing rows and columns\n",
    "df.shape"
   ]
  },
  {
   "cell_type": "code",
   "execution_count": 4,
   "id": "8a845ef8-fe33-4bf3-a04e-01f0486faa91",
   "metadata": {},
   "outputs": [
    {
     "data": {
      "text/plain": [
       "User_ID                       0\n",
       "Product_ID                    0\n",
       "Gender                        0\n",
       "Age                           0\n",
       "Occupation                    0\n",
       "City_Category                 0\n",
       "Stay_In_Current_City_Years    0\n",
       "Marital_Status                0\n",
       "Product_Category              0\n",
       "Purchase                      0\n",
       "dtype: int64"
      ]
     },
     "execution_count": 4,
     "metadata": {},
     "output_type": "execute_result"
    }
   ],
   "source": [
    "# checking null values\n",
    "df.isna().sum()"
   ]
  },
  {
   "cell_type": "code",
   "execution_count": 5,
   "id": "b536c3c0-d55b-4f1d-9ce5-5f2b0fb05e14",
   "metadata": {},
   "outputs": [
    {
     "data": {
      "text/plain": [
       "Marital_Status\n",
       "0    324731\n",
       "1    225337\n",
       "Name: count, dtype: int64"
      ]
     },
     "execution_count": 5,
     "metadata": {},
     "output_type": "execute_result"
    }
   ],
   "source": [
    "df.Marital_Status.value_counts()"
   ]
  },
  {
   "cell_type": "code",
   "execution_count": 6,
   "id": "12468329-cb58-4307-aa61-e9b714d0ec3c",
   "metadata": {},
   "outputs": [
    {
     "name": "stdout",
     "output_type": "stream",
     "text": [
      "User_ID:5891\n",
      "----------------------------------------------------------------------------------------------------\n",
      "Product_ID:3631\n",
      "----------------------------------------------------------------------------------------------------\n",
      "Gender:2\n",
      "----------------------------------------------------------------------------------------------------\n",
      "Age:7\n",
      "----------------------------------------------------------------------------------------------------\n",
      "Occupation:21\n",
      "----------------------------------------------------------------------------------------------------\n",
      "City_Category:3\n",
      "----------------------------------------------------------------------------------------------------\n",
      "Stay_In_Current_City_Years:5\n",
      "----------------------------------------------------------------------------------------------------\n",
      "Marital_Status:2\n",
      "----------------------------------------------------------------------------------------------------\n",
      "Product_Category:20\n",
      "----------------------------------------------------------------------------------------------------\n",
      "Purchase:18105\n",
      "----------------------------------------------------------------------------------------------------\n"
     ]
    }
   ],
   "source": [
    "# counting the unique values in each feature\n",
    "for i in df.columns:\n",
    "    print(f\"{i}:{df[i].nunique()}\")\n",
    "    print(\"-\"*100)"
   ]
  },
  {
   "cell_type": "code",
   "execution_count": 7,
   "id": "2d4cfbd3-c797-4fe0-abd5-b141c4eb7273",
   "metadata": {},
   "outputs": [
    {
     "data": {
      "text/plain": [
       "Gender\n",
       "M    414259\n",
       "F    135809\n",
       "Name: count, dtype: int64"
      ]
     },
     "execution_count": 7,
     "metadata": {},
     "output_type": "execute_result"
    }
   ],
   "source": [
    "df.Gender.value_counts()"
   ]
  },
  {
   "cell_type": "code",
   "execution_count": 8,
   "id": "facde222-a222-461a-86bb-8892a93eb2fe",
   "metadata": {},
   "outputs": [
    {
     "name": "stdout",
     "output_type": "stream",
     "text": [
      "<class 'pandas.core.frame.DataFrame'>\n",
      "RangeIndex: 550068 entries, 0 to 550067\n",
      "Data columns (total 10 columns):\n",
      " #   Column                      Non-Null Count   Dtype \n",
      "---  ------                      --------------   ----- \n",
      " 0   User_ID                     550068 non-null  int64 \n",
      " 1   Product_ID                  550068 non-null  object\n",
      " 2   Gender                      550068 non-null  object\n",
      " 3   Age                         550068 non-null  object\n",
      " 4   Occupation                  550068 non-null  int64 \n",
      " 5   City_Category               550068 non-null  object\n",
      " 6   Stay_In_Current_City_Years  550068 non-null  object\n",
      " 7   Marital_Status              550068 non-null  int64 \n",
      " 8   Product_Category            550068 non-null  int64 \n",
      " 9   Purchase                    550068 non-null  int64 \n",
      "dtypes: int64(5), object(5)\n",
      "memory usage: 42.0+ MB\n"
     ]
    }
   ],
   "source": [
    "df.info()"
   ]
  },
  {
   "cell_type": "code",
   "execution_count": 9,
   "id": "7cb54ae1-25ff-4f1c-9fee-53b26111b964",
   "metadata": {},
   "outputs": [
    {
     "data": {
      "text/plain": [
       "<Axes: xlabel='Purchase', ylabel='Density'>"
      ]
     },
     "execution_count": 9,
     "metadata": {},
     "output_type": "execute_result"
    },
    {
     "data": {
      "image/png": "[encoded data removed]",
      "text/plain": [
       "<Figure size 640x480 with 1 Axes>"
      ]
     },
     "metadata": {},
     "output_type": "display_data"
    }
   ],
   "source": [
    "# kde plot for purchase feature\n",
    "sns.kdeplot(data=df, x = \"Purchase\")"
   ]
  },
  {
   "cell_type": "code",
   "execution_count": 10,
   "id": "59002732-b4e1-46e6-87af-aecc35f5b58f",
   "metadata": {},
   "outputs": [
    {
     "data": {
      "text/plain": [
       "Marital_Status  Gender\n",
       "0               M         245910\n",
       "                F          78821\n",
       "1               M         168349\n",
       "                F          56988\n",
       "Name: count, dtype: int64"
      ]
     },
     "execution_count": 10,
     "metadata": {},
     "output_type": "execute_result"
    }
   ],
   "source": [
    "df.groupby(\"Marital_Status\")[\"Gender\"].value_counts()"
   ]
  },
  {
   "cell_type": "code",
   "execution_count": 11,
   "id": "050b6325-7867-4053-bd25-f30fa545118a",
   "metadata": {},
   "outputs": [
    {
     "data": {
      "image/png": "[encoded data removed]",
      "text/plain": [
       "<Figure size 2000x1600 with 6 Axes>"
      ]
     },
     "metadata": {},
     "output_type": "display_data"
    }
   ],
   "source": [
    "# ploting the boxplots\n",
    "feature = [\"Gender\", \"Age\", \"Occupation\", \"City_Category\", \"Stay_In_Current_City_Years\", \"Marital_Status\"]\n",
    "fig,axs = plt.subplots(nrows=3, ncols = 2, figsize= (20,16))\n",
    "count = 0\n",
    "\n",
    "for row in range(3):\n",
    "    for col in range(2):\n",
    "        sns.boxplot(data=df, y=\"Purchase\", x = feature[count], ax = axs[row, col])\n",
    "        axs[row, col].set_title(f\"Purchase vs {feature[count]}\", fontsize = 14)\n",
    "        count+=1\n",
    "plt.show()"
   ]
  },
  {
   "cell_type": "markdown",
   "id": "18883013-7fe4-4a8a-9c56-944b841bfb2e",
   "metadata": {},
   "source": [
    "**Insights:**\n",
    "\n",
    "1. From the data, we can say males spend more than females.\n",
    "2. Spending power with respect to age is almost similar.\n",
    "3. In the Occupation vs Purchase graph, their distribution looks more or less similar.\n",
    "4. City_Category - \"C\" spends more than the other two city_categories.\n",
    "5. In the Purchase vs Stay_In_Current_City_Years graph, their distribution looks almost less similar.\n",
    "6. Married and Unmarries spending behaviour seems almost similar.\n",
    "   "
   ]
  },
  {
   "cell_type": "markdown",
   "id": "0a769b90-fa6d-46b0-ac01-1eba9b25b6e4",
   "metadata": {},
   "source": [
    "# Objective:\n",
    "\n",
    "We have draw the inferences for the whole population from the given dataset:\n",
    " - Need to Check whether males spends more than females or viceversa\n",
    " - Need to check, does marital_status affects the spending power of the customers"
   ]
  },
  {
   "cell_type": "code",
   "execution_count": 12,
   "id": "172e1037-7ca0-4a51-b339-9d76b1534abb",
   "metadata": {},
   "outputs": [
    {
     "ename": "NameError",
     "evalue": "name 'q2' is not defined",
     "output_type": "error",
     "traceback": [
      "\u001b[0;31m---------------------------------------------------------------------------\u001b[0m",
      "\u001b[0;31mNameError\u001b[0m                                 Traceback (most recent call last)",
      "Cell \u001b[0;32mIn[12], line 4\u001b[0m\n\u001b[1;32m      2\u001b[0m q1 \u001b[38;5;241m=\u001b[39m df[\u001b[38;5;124m\"\u001b[39m\u001b[38;5;124mPurchase\u001b[39m\u001b[38;5;124m\"\u001b[39m]\u001b[38;5;241m.\u001b[39mquantile(\u001b[38;5;241m0.25\u001b[39m)\n\u001b[1;32m      3\u001b[0m q3 \u001b[38;5;241m=\u001b[39m df[\u001b[38;5;124m\"\u001b[39m\u001b[38;5;124mPurchase\u001b[39m\u001b[38;5;124m\"\u001b[39m]\u001b[38;5;241m.\u001b[39mquantile(\u001b[38;5;241m0.75\u001b[39m)\n\u001b[0;32m----> 4\u001b[0m IQR \u001b[38;5;241m=\u001b[39m q2\u001b[38;5;241m-\u001b[39mq1\n\u001b[1;32m      5\u001b[0m outliers \u001b[38;5;241m=\u001b[39m df[(df\u001b[38;5;241m.\u001b[39mPurchase \u001b[38;5;241m<\u001b[39m (q1\u001b[38;5;241m-\u001b[39m\u001b[38;5;241m1.5\u001b[39m\u001b[38;5;241m*\u001b[39mIQR)) \u001b[38;5;241m|\u001b[39m (df\u001b[38;5;241m.\u001b[39mPurchase \u001b[38;5;241m>\u001b[39m (q3 \u001b[38;5;241m+\u001b[39m \u001b[38;5;241m1.5\u001b[39m\u001b[38;5;241m*\u001b[39mIQR))]\n\u001b[1;32m      6\u001b[0m \u001b[38;5;28mprint\u001b[39m(\u001b[38;5;124m\"\u001b[39m\u001b[38;5;124mPercntage of Outlier :\u001b[39m\u001b[38;5;124m\"\u001b[39m, (\u001b[38;5;28mlen\u001b[39m(outliers)\u001b[38;5;241m/\u001b[39m\u001b[38;5;28mlen\u001b[39m(df))\u001b[38;5;241m*\u001b[39m\u001b[38;5;241m100\u001b[39m)\n",
      "\u001b[0;31mNameError\u001b[0m: name 'q2' is not defined"
     ]
    }
   ],
   "source": [
    "# checking outliers \n",
    "q1 = df[\"Purchase\"].quantile(0.25)\n",
    "q3 = df[\"Purchase\"].quantile(0.75)\n",
    "IQR = q2-q1\n",
    "outliers = df[(df.Purchase < (q1-1.5*IQR)) | (df.Purchase > (q3 + 1.5*IQR))]\n",
    "print(\"Percntage of Outlier :\", (len(outliers)/len(df))*100)"
   ]
  },
  {
   "cell_type": "markdown",
   "id": "eff35053-7cca-4dc9-b7d1-772064c81da1",
   "metadata": {},
   "source": [
    "**Insights:**\n",
    "\n",
    "1. Removing the outliers from the data as those are a very few in the data"
   ]
  },
  {
   "cell_type": "code",
   "execution_count": null,
   "id": "068ff280-1092-4aa7-95ad-fce4b106b64c",
   "metadata": {},
   "outputs": [],
   "source": [
    "# updated dataframe, devoid of outliers\n",
    "df_new = df[(df.Purchase > (q1 - 1.5*IQR)) & (df.Purchase < (q3 + 1.5*IQR))]\n",
    "df_new.shape"
   ]
  },
  {
   "cell_type": "code",
   "execution_count": null,
   "id": "6157dacc-8fb0-4b0d-b2e7-8541e43878a4",
   "metadata": {},
   "outputs": [],
   "source": [
    "# showing percentage of each unique_value from the features\n",
    "categorical_cols = ['Gender', 'Age', 'Stay_In_Current_City_Years', 'Marital_Status','City_Category']\n",
    "df_new[categorical_cols].melt().groupby(['variable', 'value'])[['value']].count()*100/len(df)"
   ]
  },
  {
   "cell_type": "code",
   "execution_count": null,
   "id": "c3243984-d3cb-40cb-8fbb-8063fcd8961d",
   "metadata": {},
   "outputs": [],
   "source": [
    "\n",
    "fig, axs = plt.subplots(nrows=2, ncols=2, figsize=(16, 12))\n",
    "sns.countplot(data=df_new, x='Gender', ax=axs[0,0])\n",
    "sns.countplot(data=df_new, x='Age', ax=axs[0,1])\n",
    "sns.countplot(data=df_new, x='City_Category', ax=axs[1,0])\n",
    "sns.countplot(data = df_new, x='Marital_Status', ax=axs[1,1])\n",
    "plt.show()\n"
   ]
  },
  {
   "cell_type": "markdown",
   "id": "9ec07069-154d-4c9d-9c8d-be8817e3e047",
   "metadata": {},
   "source": [
    "**Insights:**\n",
    "\n",
    "1. Proportion of male population is much higher than females in the given dataset.\n",
    "2. In the Age Category - customers who are under the age of 26 to 35 are lage in numbers in comparison to other age categories.\n",
    "3. City_category - \"B\" are highest in proportion.\n",
    "4. Unmarried People are more than the married people in the given dataset."
   ]
  },
  {
   "cell_type": "code",
   "execution_count": null,
   "id": "c77cae09-a6db-4fa4-b1cc-ac04a63894e1",
   "metadata": {},
   "outputs": [],
   "source": [
    "# \n",
    "# Convert the columns to string or categorical so the seaborn lib does not throw error\n",
    "df_new['Product_Category'] = df_new['Product_Category'].astype(str)\n",
    "df_new['Marital_Status'] = df_new['Marital_Status'].astype(str)\n",
    "\n",
    "df_new['Age'] = df_new['Age'].astype(str)"
   ]
  },
  {
   "cell_type": "code",
   "execution_count": null,
   "id": "ef734714-3697-4928-b293-cd0a06ce03a0",
   "metadata": {},
   "outputs": [],
   "source": [
    "sns.barplot(data=df_new, x= 'Age', y='Purchase', hue= \"Marital_Status\")"
   ]
  },
  {
   "cell_type": "markdown",
   "id": "6eb746d1-9afd-4a27-af4a-51dd6b50cd6b",
   "metadata": {},
   "source": [
    "**Insights:**\n",
    "\n",
    "1. Male population in each age category is more than female population."
   ]
  },
  {
   "cell_type": "code",
   "execution_count": null,
   "id": "a5aa44fd-d9e5-4e93-b02b-3d4f5412021a",
   "metadata": {},
   "outputs": [],
   "source": [
    "plt.figure(figsize=(10, 8))\n",
    "sns.countplot(data=df_new, x='Product_Category')\n",
    "plt.show()"
   ]
  },
  {
   "cell_type": "markdown",
   "id": "c597f9d3-a12d-4981-9cf1-2064241ff6b9",
   "metadata": {},
   "source": [
    "**Insights**\n",
    "\n",
    "1. Product category - 1, 5 and 8 are large in prportion in comparison to other product categories."
   ]
  },
  {
   "cell_type": "code",
   "execution_count": null,
   "id": "58818908-310b-4004-9041-e2c405585906",
   "metadata": {},
   "outputs": [],
   "source": [
    "plt.figure(figsize=(20, 8))\n",
    "sns.countplot(data=df_new, x='Age',hue='Marital_Status')\n",
    "plt.show()"
   ]
  },
  {
   "cell_type": "code",
   "execution_count": null,
   "id": "9f990987-a4f6-48d3-bfbf-90d2696fd018",
   "metadata": {},
   "outputs": [],
   "source": [
    "plt.figure(figsize=(20, 8))\n",
    "sns.countplot(data=df_new, x='Product_Category',hue='Marital_Status')\n",
    "plt.show()"
   ]
  },
  {
   "cell_type": "code",
   "execution_count": null,
   "id": "049b0742-a1fa-480b-bdf5-5a18b41a578d",
   "metadata": {},
   "outputs": [],
   "source": [
    "sns.displot(x='Purchase', bins=25, kde=True,hue='Gender', data=df_new )"
   ]
  },
  {
   "cell_type": "code",
   "execution_count": null,
   "id": "941b7ff3-5381-46ce-a162-e4000f64628a",
   "metadata": {},
   "outputs": [],
   "source": [
    "sns.displot(x='Purchase', data=df_new, bins=25, hue='Gender')\n",
    "\n",
    "plt.axvline(x=df_new['Purchase'].mean(), color='r')\n",
    "plt.axvline(x=df_new[df_new['Gender']=='M']['Purchase'].mean(), color='b')\n",
    "plt.axvline(x=df_new[df_new['Gender']=='F']['Purchase'].mean(), color='g')\n",
    "\n",
    "plt.show()"
   ]
  },
  {
   "cell_type": "markdown",
   "id": "27e7ab5b-53ab-40d6-a3aa-273e715ac94d",
   "metadata": {},
   "source": []
  },
  {
   "cell_type": "code",
   "execution_count": null,
   "id": "5efa95ab-42b4-4ff5-97c1-1a22a199f1d5",
   "metadata": {},
   "outputs": [],
   "source": []
  },
  {
   "cell_type": "code",
   "execution_count": null,
   "id": "f7ed1fc8-fb07-478b-aea0-39c2b3378caa",
   "metadata": {},
   "outputs": [],
   "source": []
  },
  {
   "cell_type": "code",
   "execution_count": null,
   "id": "9bf2c62a-111a-4bbb-9ea0-d34e5286b7b4",
   "metadata": {},
   "outputs": [],
   "source": []
  },
  {
   "cell_type": "code",
   "execution_count": null,
   "id": "5edf90fa-c3dc-460a-a0ba-aafc0b4c4403",
   "metadata": {},
   "outputs": [],
   "source": []
  },
  {
   "cell_type": "code",
   "execution_count": null,
   "id": "3d2c5d91-e92a-4020-8487-cbcaef730ce0",
   "metadata": {},
   "outputs": [],
   "source": [
    "# partisan the data between male and female\n",
    "male = df_new[df_new.Gender == \"M\"]\n",
    "male.head()\n"
   ]
  },
  {
   "cell_type": "code",
   "execution_count": null,
   "id": "f925e8d9-a74b-4be6-bd16-3108a93f475c",
   "metadata": {},
   "outputs": [],
   "source": [
    "male.shape"
   ]
  },
  {
   "cell_type": "code",
   "execution_count": null,
   "id": "5f0a16b0-b82d-45fd-8813-20bcc3495663",
   "metadata": {},
   "outputs": [],
   "source": [
    "# kde plot for male population\n",
    "sns.kdeplot(male[\"Purchase\"])\n",
    "plt.show()"
   ]
  },
  {
   "cell_type": "code",
   "execution_count": null,
   "id": "be0f700f-fa9b-4b07-a01f-e99993b202a9",
   "metadata": {},
   "outputs": [],
   "source": [
    "male_samples = []\n",
    "np.random.seed(42)  # Fixing the seed for reproducibility\n",
    "for i in range(1000):\n",
    "    male_sample = np.random.choice(male[\"Purchase\"], size = 50)\n",
    "    male_samples.append(male_sample.mean())\n",
    "\n",
    "sns.kdeplot(male_samples)\n",
    "plt.show()\n",
    "print(np.mean(male_samples))\n",
    "print(male[\"Purchase\"].mean())\n",
    "print(male[\"Purchase\"].std())\n",
    "    \n",
    "    "
   ]
  },
  {
   "cell_type": "code",
   "execution_count": null,
   "id": "178b59da-e4a1-4561-ba43-65220b768032",
   "metadata": {},
   "outputs": [],
   "source": [
    "# contructing 95% confidence interval for male purchases\n",
    "def cal_CI(mean, sigma, confidence, sample_size):\n",
    "    slice = (1 - confidence)/2\n",
    "    std_error = sigma/(np.sqrt(sample_size))\n",
    "    z1 = norm.ppf(slice)\n",
    "    x1 = mean + z1*std_error\n",
    "    \n",
    "    z2 = norm.ppf(1-slice)\n",
    "    x2 = mean + z2*std_error\n",
    "    return (x1,x2)\n",
    "    \n"
   ]
  },
  {
   "cell_type": "code",
   "execution_count": null,
   "id": "2c1daac7-050a-4af0-93eb-37509ba9fe82",
   "metadata": {},
   "outputs": [],
   "source": [
    "cal_CI(np.mean(male_samples), male[\"Purchase\"].std(), 0.95, 50)"
   ]
  },
  {
   "cell_type": "code",
   "execution_count": null,
   "id": "4ebc79f8-dfb0-4579-8b3d-75cc21082aa4",
   "metadata": {},
   "outputs": [],
   "source": [
    "female = df_new[df_new.Gender == \"F\"]\n",
    "female.head()"
   ]
  },
  {
   "cell_type": "code",
   "execution_count": null,
   "id": "7ec28531-27b4-44d9-bcd2-5067e210f6b9",
   "metadata": {},
   "outputs": [],
   "source": [
    "female_samples = []\n",
    "np.random.seed(42)  # Fixing the seed for reproducibility\n",
    "for i in range(1000):\n",
    "    female_sample = np.random.choice(female[\"Purchase\"], size = 50)\n",
    "    female_samples.append(female_sample.mean())\n",
    "\n",
    "sns.kdeplot(female_samples)\n",
    "plt.show()\n",
    "print(np.mean(female_samples))\n",
    "print(female[\"Purchase\"].mean())\n",
    "print(female[\"Purchase\"].std())\n",
    "    "
   ]
  },
  {
   "cell_type": "code",
   "execution_count": null,
   "id": "bac0970e-6fbe-475a-825e-f3cf4af69cb7",
   "metadata": {},
   "outputs": [],
   "source": [
    "cal_CI(np.mean(female_samples), female[\"Purchase\"].std(), 0.95, 50)"
   ]
  },
  {
   "cell_type": "markdown",
   "id": "4d28e4e4-66d2-4102-a3da-e2ed8197ea7f",
   "metadata": {},
   "source": [
    "**Insights:** \n",
    "\n",
    "\n",
    "1. Confidence Interval range for male purchase is [7968.64 to 10745.56] at 95% confidence (sample size = 50).\n",
    " \n",
    "2. Confidence Interval range for female purchase is [7410.66 to 10004.55] at 95% confidence (sample size = 50).\n",
    "\n",
    "3. As we can see both intervals are colliding, thereby we can not draw inferences for population to conclude that males spend more than females or viceversa on Black Friday.\n",
    "\n",
    "\n",
    "Lets increase the sample size,\n"
   ]
  },
  {
   "cell_type": "code",
   "execution_count": null,
   "id": "bd1ae9d3-2a0f-415d-b3f9-f4e35f682b58",
   "metadata": {},
   "outputs": [],
   "source": [
    "# increasing the sample size\n",
    "male_samples = []\n",
    "np.random.seed(42)  # Fixing the seed for reproducibility\n",
    "for i in range(1000):\n",
    "    male_sample = np.random.choice(male[\"Purchase\"], size = 300)\n",
    "    male_samples.append(male_sample.mean())\n",
    "\n",
    "sns.kdeplot(male_samples)\n",
    "plt.show()\n",
    "print(np.mean(male_samples))\n",
    "print(male[\"Purchase\"].mean())\n",
    "print(male[\"Purchase\"].std())\n",
    "    "
   ]
  },
  {
   "cell_type": "code",
   "execution_count": null,
   "id": "f775e2ee-0895-4b09-ab59-fcf69a028913",
   "metadata": {},
   "outputs": [],
   "source": [
    "cal_CI(np.mean(male_samples), male[\"Purchase\"].std(), 0.95, 300)"
   ]
  },
  {
   "cell_type": "code",
   "execution_count": null,
   "id": "2b7d54fc-4264-4982-a773-dc73a2e52dc3",
   "metadata": {},
   "outputs": [],
   "source": [
    "female_samples = []\n",
    "np.random.seed(42)  # Fixing the seed for reproducibility\n",
    "for i in range(1000):\n",
    "    female_sample = np.random.choice(female[\"Purchase\"], size = 300)\n",
    "    female_samples.append(female_sample.mean())\n",
    "\n",
    "sns.kdeplot(female_samples)\n",
    "plt.show()\n",
    "print(np.mean(female_samples))\n",
    "print(female[\"Purchase\"].mean())\n",
    "print(female[\"Purchase\"].std())"
   ]
  },
  {
   "cell_type": "code",
   "execution_count": null,
   "id": "1cc8a1f1-f6c6-4189-b5a2-317c9c0234d0",
   "metadata": {},
   "outputs": [],
   "source": [
    "cal_CI(np.mean(female_samples), female[\"Purchase\"].std(), 0.95, 300)"
   ]
  },
  {
   "cell_type": "markdown",
   "id": "7d722463-2c48-4cde-ad4e-b828e76afcb0",
   "metadata": {},
   "source": [
    "**Insights:** \n",
    "\n",
    "1. Confidence Interval range for male purchase is [8800.63 to 9934.30] at 95% confidence (sample size=300).\n",
    "2. Confidence Interval range for female purchase is [8135.76 to 9194.71] at 95% confidence (sample size=300).\n",
    "3.  As we can see both intervals are still colliding, thereby we can not draw inferences for population to conclude that males spend more than females or viceversa on Black Friday.\n",
    "\n",
    "\n",
    "Again, increase the sample size"
   ]
  },
  {
   "cell_type": "code",
   "execution_count": null,
   "id": "eddfacdb-169b-46c3-8a1a-587a11d22702",
   "metadata": {},
   "outputs": [],
   "source": [
    "# increasing the sample size\n",
    "male_samples = []\n",
    "np.random.seed(42)  # Fixing the seed for reproducibility\n",
    "for i in range(1000):\n",
    "    male_sample = np.random.choice(male[\"Purchase\"], size = 800)\n",
    "    male_samples.append(male_sample.mean())\n",
    "\n",
    "sns.kdeplot(male_samples)\n",
    "plt.show()\n",
    "print(np.mean(male_samples))\n",
    "print(male[\"Purchase\"].mean())\n",
    "print(male[\"Purchase\"].std())"
   ]
  },
  {
   "cell_type": "code",
   "execution_count": null,
   "id": "e2adaa5b-cfd1-47d5-8828-4694269ac887",
   "metadata": {},
   "outputs": [],
   "source": [
    "cal_CI(np.mean(male_samples), male[\"Purchase\"].std(), 0.95, 800)"
   ]
  },
  {
   "cell_type": "code",
   "execution_count": null,
   "id": "a295a68e-044c-4fe1-919b-f662a5f510a7",
   "metadata": {},
   "outputs": [],
   "source": [
    "female_samples = []\n",
    "np.random.seed(42)  # Fixing the seed for reproducibility\n",
    "for i in range(1000):\n",
    "    female_sample = np.random.choice(female[\"Purchase\"], size = 800)\n",
    "    female_samples.append(female_sample.mean())\n",
    "\n",
    "sns.kdeplot(female_samples)\n",
    "plt.show()\n",
    "print(np.mean(female_samples))\n",
    "print(female[\"Purchase\"].mean())\n",
    "print(female[\"Purchase\"].std())"
   ]
  },
  {
   "cell_type": "code",
   "execution_count": null,
   "id": "6b572010-9dcd-4432-a9b7-a523a08ac93f",
   "metadata": {},
   "outputs": [],
   "source": [
    "cal_CI(np.mean(female_samples), female[\"Purchase\"].std(), 0.95, 800)"
   ]
  },
  {
   "cell_type": "markdown",
   "id": "c54c3250-4ef3-46e5-80ef-4f3b2132d60d",
   "metadata": {},
   "source": [
    "**Insights:** \n",
    "\n",
    "1. Confidence Interval range for male purchase is [9018.90 to 9713.14] at 95% confidence (sample size=800).\n",
    "2. Confidence Interval range for female purchase is [8345.85 to 8994.33] at 95% confidence (sample size=800).\n",
    "3. **As we can see both intervals are distinct , therefore we can conclude for whole populationat 95% confidence that male population spends more than female population on black friday.**\n",
    "\n"
   ]
  },
  {
   "cell_type": "markdown",
   "id": "79dc6937-e6e6-4e1d-a2a3-22bbde4b9165",
   "metadata": {},
   "source": [
    "# Spending power behaviour of customers with respect to marital status"
   ]
  },
  {
   "cell_type": "code",
   "execution_count": null,
   "id": "0273ac1d-faad-429a-a0e8-88782912d57b",
   "metadata": {},
   "outputs": [],
   "source": [
    "married_people = df[df.Marital_Status == 1]\n",
    "married_people.head()"
   ]
  },
  {
   "cell_type": "code",
   "execution_count": null,
   "id": "345a4f5c-5f5e-4789-8e37-c3a2529999d6",
   "metadata": {},
   "outputs": [],
   "source": [
    "married_samples = []\n",
    "np.random.seed(42)  # Fixing the seed for reproducibility\n",
    "for i in range(1000):\n",
    "    married_sample = np.random.choice(married_people[\"Purchase\"], size = 50)\n",
    "    married_samples.append(married_sample.mean())\n",
    "\n",
    "plt.hist(married_samples)\n",
    "plt.show()\n",
    "print(np.mean(married_samples))\n",
    "print(married_people[\"Purchase\"].mean())\n",
    "print(married_people[\"Purchase\"].std())\n",
    "    \n",
    "    "
   ]
  },
  {
   "cell_type": "code",
   "execution_count": null,
   "id": "70b7e7ab-8e9a-48b2-b0b8-a59af3fa8f59",
   "metadata": {},
   "outputs": [],
   "source": [
    "# calling function cal_CI to caculate confidence interval\n",
    "cal_CI(np.mean(married_samples), married_people[\"Purchase\"].std(), 0.95, 50)\n"
   ]
  },
  {
   "cell_type": "code",
   "execution_count": null,
   "id": "80a2f063-8f5d-4eb8-9685-8b5fc724dee0",
   "metadata": {},
   "outputs": [],
   "source": [
    "unmarried_people = df[df.Marital_Status == 0]\n",
    "unmarried_people.head()"
   ]
  },
  {
   "cell_type": "code",
   "execution_count": null,
   "id": "e3de5169-7770-4ba2-91ce-918470bddaa7",
   "metadata": {},
   "outputs": [],
   "source": [
    "unmarried_samples = []\n",
    "np.random.seed(42)  # Fixing the seed for reproducibility\n",
    "for i in range(1000):\n",
    "    unmarried_sample = np.random.choice(unmarried_people[\"Purchase\"], size = 50)\n",
    "    unmarried_samples.append(unmarried_sample.mean())\n",
    "\n",
    "plt.hist(unmarried_samples)\n",
    "plt.show()\n",
    "print(np.mean(male_samples))\n",
    "print(unmarried_people[\"Purchase\"].mean())\n",
    "print(unmarried_people[\"Purchase\"].std())\n",
    "    \n",
    "    "
   ]
  },
  {
   "cell_type": "code",
   "execution_count": null,
   "id": "8725767c-dd44-46e3-8fba-1ed128a78b1c",
   "metadata": {},
   "outputs": [],
   "source": [
    "# calling function cal_CI to caculate confidence interval\n",
    "cal_CI(np.mean(unmarried_samples), unmarried_people[\"Purchase\"].std(), 0.95, 50)\n"
   ]
  },
  {
   "cell_type": "markdown",
   "id": "279eb105-bde7-4c78-88a9-ec93c1b93f40",
   "metadata": {},
   "source": [
    "**Insights:**\n",
    "\n",
    "1. Confidence Interval range for married_people purchase is [7862.64, 10643.81] at 95% confidence.\n",
    "2. Confidence Interval range for unmarried_people purchase is [7861.93 to 10648.90] at 95% confidence.\n",
    "3. The confidence interval range for married and unmarried people is almost same, thereby we can not draw the inferences for the population at 95 % confidence that whether married people spends more or unmarried people spends more.\n",
    "\n",
    "let's increase the sample size\n",
    "\n"
   ]
  },
  {
   "cell_type": "code",
   "execution_count": null,
   "id": "4c80358b-e6de-46e7-b66d-1c0291f1a3e5",
   "metadata": {},
   "outputs": [],
   "source": [
    "cal_CI(np.mean(married_samples), married_people[\"Purchase\"].std(), 0.90, 3000)"
   ]
  },
  {
   "cell_type": "code",
   "execution_count": null,
   "id": "04bada3a-77eb-466d-8d94-264688b5c7e7",
   "metadata": {},
   "outputs": [],
   "source": [
    "cal_CI(np.mean(unmarried_samples), unmarried_people[\"Purchase\"].std(), 0.90, 3000)"
   ]
  },
  {
   "cell_type": "markdown",
   "id": "617871a6-4904-4423-a85a-f36a6818ffb5",
   "metadata": {},
   "source": [
    "**Insights:**\n",
    "\n",
    "1. Confidence Interval range for married_people purchase is [9102.56 to 9403.89] at 90% confidence (sample size = 3000).\n",
    "2. Confidence Interval range for unmarried_people purchase is [9104.44 to 9406.39] at 90% confidence (sample size = 3000).\n",
    "3. **The confidence interval range for married and unmarried people is almost same, thereby we can not draw the inferences for the population at 90 % confidence that whether married people spends more or unmarried people spends more.**"
   ]
  },
  {
   "cell_type": "code",
   "execution_count": null,
   "id": "80d9a355-aa19-499a-a9f8-b6b245212dc3",
   "metadata": {},
   "outputs": [],
   "source": []
  },
  {
   "cell_type": "code",
   "execution_count": null,
   "id": "843d85cc-79ec-470d-ad40-1b69d09293d7",
   "metadata": {},
   "outputs": [],
   "source": []
  },
  {
   "cell_type": "code",
   "execution_count": null,
   "id": "91d9e17e-58ec-444b-979a-92616434f89c",
   "metadata": {},
   "outputs": [],
   "source": []
  },
  {
   "cell_type": "code",
   "execution_count": null,
   "id": "69a3c350-b3b8-4b6c-b210-126bfc657b46",
   "metadata": {},
   "outputs": [],
   "source": []
  }
 ],
 "metadata": {
  "kernelspec": {
   "display_name": "Python 3 (ipykernel)",
   "language": "python",
   "name": "python3"
  },
  "language_info": {
   "codemirror_mode": {
    "name": "ipython",
    "version": 3
   },
   "file_extension": ".py",
   "mimetype": "text/x-python",
   "name": "python",
   "nbconvert_exporter": "python",
   "pygments_lexer": "ipython3",
   "version": "3.11.7"
  }
 },
 "nbformat": 4,
 "nbformat_minor": 5
}
